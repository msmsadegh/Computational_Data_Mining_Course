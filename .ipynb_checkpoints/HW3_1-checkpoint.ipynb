{
 "cells": [
  {
   "cell_type": "code",
   "execution_count": 42,
   "id": "514bf941",
   "metadata": {},
   "outputs": [],
   "source": [
    "import os, numpy, PIL\n",
    "from PIL import Image\n",
    "import numpy as np\n",
    "from numpy import newaxis\n",
    "from time import sleep\n",
    "import warnings\n",
    "import pandas as pd\n",
    "from scipy import linalg   # SciPy Linear Algebra Library\n",
    "\n",
    "import re\n",
    "warnings.filterwarnings(\"ignore\")\n"
   ]
  },
  {
   "cell_type": "code",
   "execution_count": 43,
   "id": "fb0520fd",
   "metadata": {},
   "outputs": [],
   "source": [
    "PATH = '/home/maghareh/Desktop/ThirdSemester/ComputationalDataMining/HW3'"
   ]
  },
  {
   "cell_type": "code",
   "execution_count": 44,
   "id": "6b57a8d0",
   "metadata": {},
   "outputs": [
    {
     "name": "stdout",
     "output_type": "stream",
     "text": [
      "    0    1    2    3    4    5    6    7    8     9    ...  774  775  776  \\\n",
      "0   0.0  0.0  0.0  0.0  0.0  0.0  0.0  0.0  2.0   0.0  ...  0.0  0.0  0.0   \n",
      "1   0.0  0.0  0.0  0.0  0.0  0.0  0.0  0.0  5.0   0.0  ...  0.0  0.0  0.0   \n",
      "2   0.0  0.0  0.0  0.0  1.0  0.0  0.0  0.0  0.0   2.0  ...  0.0  0.0  0.0   \n",
      "3   1.0  1.0  1.0  0.0  0.0  0.0  0.0  0.0  6.0   0.0  ...  0.0  0.0  0.0   \n",
      "4   0.0  0.0  0.0  0.0  0.0  0.0  0.0  0.0  0.0   0.0  ...  0.0  0.0  0.0   \n",
      "..  ...  ...  ...  ...  ...  ...  ...  ...  ...   ...  ...  ...  ...  ...   \n",
      "95  0.0  0.0  0.0  0.0  0.0  0.0  0.0  0.0  0.0   2.0  ...  0.0  0.0  0.0   \n",
      "96  0.0  0.0  0.0  0.0  0.0  0.0  0.0  0.0  5.0   4.0  ...  0.0  0.0  0.0   \n",
      "97  0.0  0.0  0.0  0.0  0.0  0.0  0.0  0.0  2.0   0.0  ...  0.0  0.0  0.0   \n",
      "98  0.0  0.0  0.0  0.0  0.0  0.0  0.0  0.0  0.0   8.0  ...  0.0  0.0  0.0   \n",
      "99  0.0  0.0  0.0  0.0  0.0  0.0  0.0  0.0  0.0  14.0  ...  0.0  0.0  0.0   \n",
      "\n",
      "    777  778  779  780  781  782  783  \n",
      "0   0.0  0.0  0.0  0.0  0.0  0.0  0.0  \n",
      "1   0.0  0.0  0.0  0.0  0.0  0.0  0.0  \n",
      "2   0.0  0.0  0.0  0.0  0.0  0.0  0.0  \n",
      "3   0.0  0.0  0.0  0.0  0.0  0.0  0.0  \n",
      "4   0.0  0.0  0.0  0.0  0.0  0.0  0.0  \n",
      "..  ...  ...  ...  ...  ...  ...  ...  \n",
      "95  0.0  0.0  0.0  0.0  0.0  0.0  0.0  \n",
      "96  0.0  0.0  0.0  0.0  0.0  0.0  0.0  \n",
      "97  0.0  0.0  0.0  0.0  0.0  0.0  0.0  \n",
      "98  0.0  0.0  0.0  0.0  0.0  0.0  0.0  \n",
      "99  0.0  0.0  0.0  0.0  0.0  0.0  0.0  \n",
      "\n",
      "[100 rows x 784 columns]\n"
     ]
    }
   ],
   "source": [
    "matrix_A = {'0':[],'1':[],'2':[],'3':[],'4':[],'5':[],'6':[],'7':[],'8':[],'9':[]}\n",
    "\n",
    "\n",
    "for digit in range(0,10):\n",
    "    allfiles=os.listdir(PATH+f'/TinyMNIST/train/{digit}/')\n",
    "    imlist=[PATH+f'/TinyMNIST/train/{digit}/'+filename for filename in allfiles if  filename[-4:] in [\".jpg\",\".JPG\"]]\n",
    "\n",
    "    # Assuming all images are the same size, get dimensions of first image\n",
    "    w,h=Image.open(imlist[0]).size\n",
    "    N=len(imlist)\n",
    "\n",
    "    # Build up average pixel intensities, casting each image as an array of floats\n",
    "    for im in imlist[0:100]:\n",
    "        imarr=numpy.array(Image.open(im),dtype=numpy.float)\n",
    "        imarr = imarr.flatten()\n",
    "        \n",
    "        matrix_A[str(digit)].append(imarr)\n",
    "print(pd.DataFrame(matrix_A['0']))\n"
   ]
  },
  {
   "cell_type": "code",
   "execution_count": 45,
   "id": "a1bc9f58",
   "metadata": {},
   "outputs": [
    {
     "name": "stdout",
     "output_type": "stream",
     "text": [
      "255.0\n"
     ]
    }
   ],
   "source": [
    "print(max(matrix_A['0'][0]))"
   ]
  }
 ],
 "metadata": {
  "kernelspec": {
   "display_name": "Python 3 (ipykernel)",
   "language": "python",
   "name": "python3"
  },
  "language_info": {
   "codemirror_mode": {
    "name": "ipython",
    "version": 3
   },
   "file_extension": ".py",
   "mimetype": "text/x-python",
   "name": "python",
   "nbconvert_exporter": "python",
   "pygments_lexer": "ipython3",
   "version": "3.10.4"
  }
 },
 "nbformat": 4,
 "nbformat_minor": 5
}
